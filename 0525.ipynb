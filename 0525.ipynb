{
  "nbformat": 4,
  "nbformat_minor": 0,
  "metadata": {
    "colab": {
      "name": "0525.ipynb",
      "provenance": [],
      "authorship_tag": "ABX9TyMvXBqAr+a32gHuMQzBtl3S",
      "include_colab_link": true
    },
    "kernelspec": {
      "name": "python3",
      "display_name": "Python 3"
    },
    "language_info": {
      "name": "python"
    }
  },
  "cells": [
    {
      "cell_type": "markdown",
      "metadata": {
        "id": "view-in-github",
        "colab_type": "text"
      },
      "source": [
        "<a href=\"https://colab.research.google.com/github/yuting-chung/Introduction-to-Computers/blob/main/0525.ipynb\" target=\"_parent\"><img src=\"https://colab.research.google.com/assets/colab-badge.svg\" alt=\"Open In Colab\"/></a>"
      ]
    },
    {
      "cell_type": "code",
      "execution_count": 1,
      "metadata": {
        "colab": {
          "base_uri": "https://localhost:8080/"
        },
        "id": "LahKb2RJQmBF",
        "outputId": "119b3125-e101-4d14-d8a0-825d4ce498ec"
      },
      "outputs": [
        {
          "output_type": "stream",
          "name": "stdout",
          "text": [
            "test\n"
          ]
        }
      ],
      "source": [
        "print(\"test\")"
      ]
    },
    {
      "cell_type": "code",
      "source": [
        "sum = 0\n",
        "test = int(input(\"請輸入一個正整數：\"))\n",
        "for n in range(1, test+1):\n",
        "   sum = sum+n\n",
        "print(\"1到\",test,\"的整數和為\",sum)"
      ],
      "metadata": {
        "colab": {
          "base_uri": "https://localhost:8080/"
        },
        "id": "ErFKnZYqQ-VZ",
        "outputId": "9bfcde57-c052-4b61-8780-27184c0fe577"
      },
      "execution_count": 2,
      "outputs": [
        {
          "output_type": "stream",
          "name": "stdout",
          "text": [
            "請輸入一個正整數：50\n",
            "1到 50 的整數和為 1275\n"
          ]
        }
      ]
    },
    {
      "cell_type": "code",
      "source": [
        "sum = 0\n",
        "test = int(input(\"請輸入一個正整數：\"))\n",
        "for m in range(1, test+1):\n",
        "   sum = sum+m\n",
        "   print(\"1到\"+str(m)+\"的整數和為\",sum)"
      ],
      "metadata": {
        "colab": {
          "base_uri": "https://localhost:8080/"
        },
        "id": "_M1BPQnnSwDg",
        "outputId": "d2ffbe12-396d-4d58-fb91-63b35a28972d"
      },
      "execution_count": 5,
      "outputs": [
        {
          "output_type": "stream",
          "name": "stdout",
          "text": [
            "請輸入一個正整數：50\n",
            "1到1的整數和為 1\n",
            "1到2的整數和為 3\n",
            "1到3的整數和為 6\n",
            "1到4的整數和為 10\n",
            "1到5的整數和為 15\n",
            "1到6的整數和為 21\n",
            "1到7的整數和為 28\n",
            "1到8的整數和為 36\n",
            "1到9的整數和為 45\n",
            "1到10的整數和為 55\n",
            "1到11的整數和為 66\n",
            "1到12的整數和為 78\n",
            "1到13的整數和為 91\n",
            "1到14的整數和為 105\n",
            "1到15的整數和為 120\n",
            "1到16的整數和為 136\n",
            "1到17的整數和為 153\n",
            "1到18的整數和為 171\n",
            "1到19的整數和為 190\n",
            "1到20的整數和為 210\n",
            "1到21的整數和為 231\n",
            "1到22的整數和為 253\n",
            "1到23的整數和為 276\n",
            "1到24的整數和為 300\n",
            "1到25的整數和為 325\n",
            "1到26的整數和為 351\n",
            "1到27的整數和為 378\n",
            "1到28的整數和為 406\n",
            "1到29的整數和為 435\n",
            "1到30的整數和為 465\n",
            "1到31的整數和為 496\n",
            "1到32的整數和為 528\n",
            "1到33的整數和為 561\n",
            "1到34的整數和為 595\n",
            "1到35的整數和為 630\n",
            "1到36的整數和為 666\n",
            "1到37的整數和為 703\n",
            "1到38的整數和為 741\n",
            "1到39的整數和為 780\n",
            "1到40的整數和為 820\n",
            "1到41的整數和為 861\n",
            "1到42的整數和為 903\n",
            "1到43的整數和為 946\n",
            "1到44的整數和為 990\n",
            "1到45的整數和為 1035\n",
            "1到46的整數和為 1081\n",
            "1到47的整數和為 1128\n",
            "1到48的整數和為 1176\n",
            "1到49的整數和為 1225\n",
            "1到50的整數和為 1275\n"
          ]
        }
      ]
    },
    {
      "cell_type": "code",
      "source": [
        "for j in range(1,5):\n",
        "    print(j)\n",
        "    for i in range(1,3):\n",
        "        k = i*j\n",
        "        print(j,\"*\",i,\"=\",k)"
      ],
      "metadata": {
        "colab": {
          "base_uri": "https://localhost:8080/"
        },
        "id": "L_WMeT7KTrFk",
        "outputId": "dc3a09d4-7dab-4ff1-c010-986deb535a91"
      },
      "execution_count": 6,
      "outputs": [
        {
          "output_type": "stream",
          "name": "stdout",
          "text": [
            "1\n",
            "1 * 1 = 1\n",
            "1 * 2 = 2\n",
            "2\n",
            "2 * 1 = 2\n",
            "2 * 2 = 4\n",
            "3\n",
            "3 * 1 = 3\n",
            "3 * 2 = 6\n",
            "4\n",
            "4 * 1 = 4\n",
            "4 * 2 = 8\n"
          ]
        }
      ]
    },
    {
      "cell_type": "code",
      "source": [
        "for j in range(1,6):\n",
        "    print(j)\n",
        "    for i in range(1,3):\n",
        "        k = i*j\n",
        "        print(j,\"*\",i,\"=\",k)"
      ],
      "metadata": {
        "colab": {
          "base_uri": "https://localhost:8080/"
        },
        "id": "wV99_8rhU1wu",
        "outputId": "68fec15d-209a-4baf-c6ca-2c0238523cc3"
      },
      "execution_count": 7,
      "outputs": [
        {
          "output_type": "stream",
          "name": "stdout",
          "text": [
            "1\n",
            "1 * 1 = 1\n",
            "1 * 2 = 2\n",
            "2\n",
            "2 * 1 = 2\n",
            "2 * 2 = 4\n",
            "3\n",
            "3 * 1 = 3\n",
            "3 * 2 = 6\n",
            "4\n",
            "4 * 1 = 4\n",
            "4 * 2 = 8\n",
            "5\n",
            "5 * 1 = 5\n",
            "5 * 2 = 10\n"
          ]
        }
      ]
    },
    {
      "cell_type": "code",
      "source": [
        "for i in range(1,5):\n",
        "    if(i==4):\n",
        "        break\n",
        "    print(i, end = \" \")\n"
      ],
      "metadata": {
        "colab": {
          "base_uri": "https://localhost:8080/"
        },
        "id": "hGbT0xdlVZtE",
        "outputId": "c92155ba-1e48-44ff-97f4-9738b81b8197"
      },
      "execution_count": 8,
      "outputs": [
        {
          "output_type": "stream",
          "name": "stdout",
          "text": [
            "1 2 3 "
          ]
        }
      ]
    },
    {
      "cell_type": "code",
      "source": [
        "for i in range(1,5):\n",
        "    if(i==3):\n",
        "        break\n",
        "    print(i, end = \" \")"
      ],
      "metadata": {
        "colab": {
          "base_uri": "https://localhost:8080/"
        },
        "id": "VDt2EMhCWJ6r",
        "outputId": "d4bdc6f0-e380-4085-bd29-db074e598009"
      },
      "execution_count": 9,
      "outputs": [
        {
          "output_type": "stream",
          "name": "stdout",
          "text": [
            "1 2 "
          ]
        }
      ]
    },
    {
      "cell_type": "code",
      "source": [
        "for i in range(1,5):\n",
        "    if(i==4):\n",
        "        continue\n",
        "    print(i, end = \" \")"
      ],
      "metadata": {
        "colab": {
          "base_uri": "https://localhost:8080/"
        },
        "id": "AOoD6WYVWZZf",
        "outputId": "7eb8fef1-164f-4297-df5e-5b8dd75c3dec"
      },
      "execution_count": 10,
      "outputs": [
        {
          "output_type": "stream",
          "name": "stdout",
          "text": [
            "1 2 3 "
          ]
        }
      ]
    },
    {
      "cell_type": "code",
      "source": [
        "count = 0\n",
        "for string in 'hello!':\n",
        "    count+=1\n",
        "    if string == 'o':\n",
        "       break\n",
        "    print(string)\n",
        "print(\"迴圈結束\")\n",
        "print(\"迴圈執行了 %d 次\" %count)"
      ],
      "metadata": {
        "colab": {
          "base_uri": "https://localhost:8080/"
        },
        "id": "lYWuDrUqWjzv",
        "outputId": "e0cd6a9d-02f5-4e64-eea9-8e6d9fc0b841"
      },
      "execution_count": 13,
      "outputs": [
        {
          "output_type": "stream",
          "name": "stdout",
          "text": [
            "h\n",
            "e\n",
            "l\n",
            "l\n",
            "迴圈結束\n",
            "迴圈執行了 5 次\n"
          ]
        }
      ]
    },
    {
      "cell_type": "code",
      "source": [
        "count = 0\n",
        "for string in '測試看看!':\n",
        "    count+=1\n",
        "    if string == '看':\n",
        "       break\n",
        "    print(string)\n",
        "print(\"迴圈結束\")\n",
        "print(\"迴圈執行了 %d 次\" %count)"
      ],
      "metadata": {
        "colab": {
          "base_uri": "https://localhost:8080/"
        },
        "id": "Jxn3-I8KXeci",
        "outputId": "f93e5992-621d-45e8-8285-bc981041c60d"
      },
      "execution_count": 14,
      "outputs": [
        {
          "output_type": "stream",
          "name": "stdout",
          "text": [
            "測\n",
            "試\n",
            "迴圈結束\n",
            "迴圈執行了 3 次\n"
          ]
        }
      ]
    },
    {
      "cell_type": "code",
      "source": [
        "s=\"\"\n",
        "for i in (1,2,3,4,5,6,7,8,9):\n",
        "    for j in(1,2,3,4,5,6,7,8,9):\n",
        "        s+=str(i)+\"*\"+str(j)+\"=\"+str(i*j)+\"\\t\"\n",
        "    s+=\"\\n\"\n",
        "print(s)"
      ],
      "metadata": {
        "colab": {
          "base_uri": "https://localhost:8080/"
        },
        "id": "fSzb3e5DYRi4",
        "outputId": "7bb9b885-6c9b-4191-be22-4d9fa1011b56"
      },
      "execution_count": 15,
      "outputs": [
        {
          "output_type": "stream",
          "name": "stdout",
          "text": [
            "1*1=1\t1*2=2\t1*3=3\t1*4=4\t1*5=5\t1*6=6\t1*7=7\t1*8=8\t1*9=9\t\n",
            "2*1=2\t2*2=4\t2*3=6\t2*4=8\t2*5=10\t2*6=12\t2*7=14\t2*8=16\t2*9=18\t\n",
            "3*1=3\t3*2=6\t3*3=9\t3*4=12\t3*5=15\t3*6=18\t3*7=21\t3*8=24\t3*9=27\t\n",
            "4*1=4\t4*2=8\t4*3=12\t4*4=16\t4*5=20\t4*6=24\t4*7=28\t4*8=32\t4*9=36\t\n",
            "5*1=5\t5*2=10\t5*3=15\t5*4=20\t5*5=25\t5*6=30\t5*7=35\t5*8=40\t5*9=45\t\n",
            "6*1=6\t6*2=12\t6*3=18\t6*4=24\t6*5=30\t6*6=36\t6*7=42\t6*8=48\t6*9=54\t\n",
            "7*1=7\t7*2=14\t7*3=21\t7*4=28\t7*5=35\t7*6=42\t7*7=49\t7*8=56\t7*9=63\t\n",
            "8*1=8\t8*2=16\t8*3=24\t8*4=32\t8*5=40\t8*6=48\t8*7=56\t8*8=64\t8*9=72\t\n",
            "9*1=9\t9*2=18\t9*3=27\t9*4=36\t9*5=45\t9*6=54\t9*7=63\t9*8=72\t9*9=81\t\n",
            "\n"
          ]
        }
      ]
    },
    {
      "cell_type": "code",
      "source": [
        "a = int(input(\"請輸入a的值：\"))\n",
        "b = int(input(\"請輸入b的值：\"))\n",
        "for i in range(1, (a*b)+1):\n",
        "    if(i %a == 0 and i %b == 0):\n",
        "        break\n",
        "print(\" %d 和 %d 的最小公倍數＝%d \" %(a,b,i))\n",
        "a = int(input(\"請輸入a的值：\"))\n",
        "b = int(input(\"請輸入b的值：\"))\n",
        "for i in range(1, (a*b)+1):\n",
        "    if(i %a == 0 and i %b == 0):\n",
        "        break\n",
        "print(\" %d 和 %d 的最小公倍數＝%d \" %(a,b,i))"
      ],
      "metadata": {
        "colab": {
          "base_uri": "https://localhost:8080/"
        },
        "id": "jRRHYiFYjUQP",
        "outputId": "d8562761-cca4-4d65-ac30-ad818ab8b41e"
      },
      "execution_count": 16,
      "outputs": [
        {
          "output_type": "stream",
          "name": "stdout",
          "text": [
            "請輸入a的值：4\n",
            "請輸入b的值：6\n",
            " 4 和 6 的最小公倍數＝12 \n",
            "請輸入a的值：9\n",
            "請輸入b的值：15\n",
            " 9 和 15 的最小公倍數＝45 \n"
          ]
        }
      ]
    },
    {
      "cell_type": "code",
      "source": [
        "n = int(input(\"請輸入正整數：\"))\n",
        "for i in range(1,n+1):\n",
        "    if i % 5 == 0:\n",
        "      continue\n",
        "    print(i,end=\" \")"
      ],
      "metadata": {
        "colab": {
          "base_uri": "https://localhost:8080/"
        },
        "id": "ew25hmdplNI1",
        "outputId": "51bbb9ed-494c-4fe1-ad28-dcba1455d6fe"
      },
      "execution_count": 19,
      "outputs": [
        {
          "output_type": "stream",
          "name": "stdout",
          "text": [
            "請輸入正整數：12\n",
            "1 2 3 4 6 7 8 9 11 12 "
          ]
        }
      ]
    },
    {
      "cell_type": "code",
      "source": [
        "n = int(input(\"請輸入正整數：\"))\n",
        "for i in range(1,n+1):\n",
        "    if i % 5 == 0:\n",
        "      continue\n",
        "    print(i,end=\" \")"
      ],
      "metadata": {
        "colab": {
          "base_uri": "https://localhost:8080/"
        },
        "id": "2gMeQmI0mNRQ",
        "outputId": "084b102b-5393-45d6-9698-233cb31405e0"
      },
      "execution_count": 20,
      "outputs": [
        {
          "output_type": "stream",
          "name": "stdout",
          "text": [
            "請輸入正整數：21\n",
            "1 2 3 4 6 7 8 9 11 12 13 14 16 17 18 19 21 "
          ]
        }
      ]
    }
  ]
}