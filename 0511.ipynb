{
  "nbformat": 4,
  "nbformat_minor": 0,
  "metadata": {
    "colab": {
      "name": "0511.ipynb",
      "provenance": [],
      "include_colab_link": true
    },
    "kernelspec": {
      "name": "python3",
      "display_name": "Python 3"
    },
    "language_info": {
      "name": "python"
    }
  },
  "cells": [
    {
      "cell_type": "markdown",
      "metadata": {
        "id": "view-in-github",
        "colab_type": "text"
      },
      "source": [
        "<a href=\"https://colab.research.google.com/github/yuting-chung/Introduction-to-Computers/blob/main/0511.ipynb\" target=\"_parent\"><img src=\"https://colab.research.google.com/assets/colab-badge.svg\" alt=\"Open In Colab\"/></a>"
      ]
    },
    {
      "cell_type": "code",
      "execution_count": 1,
      "metadata": {
        "colab": {
          "base_uri": "https://localhost:8080/"
        },
        "id": "02K77xg6hhqU",
        "outputId": "09f67a14-e5fe-4408-ef76-4ffcb160186c"
      },
      "outputs": [
        {
          "output_type": "stream",
          "name": "stdout",
          "text": [
            "test\n"
          ]
        }
      ],
      "source": [
        "print(\"test\")"
      ]
    },
    {
      "cell_type": "code",
      "source": [
        "temp = float(input(\"請輸入你的體溫\"))\n",
        "if temp >= 37.5:\n",
        "  print(\"體溫過高!\")\n",
        "elif temp >= 37 and temp < 37.4:\n",
        "  print(\"體溫略高!\")\n",
        "elif temp >= 34 and temp < 36.9:\n",
        "  print(\"體溫正常!\")\n",
        "else: \n",
        "  print(\"體溫異常,請重新量測!\")"
      ],
      "metadata": {
        "colab": {
          "base_uri": "https://localhost:8080/"
        },
        "id": "gGuP5TIniXKI",
        "outputId": "bff46160-5e51-4810-e81b-282df1285f25"
      },
      "execution_count": 2,
      "outputs": [
        {
          "output_type": "stream",
          "name": "stdout",
          "text": [
            "請輸入你的體溫36\n",
            "體溫正常!\n"
          ]
        }
      ]
    },
    {
      "cell_type": "code",
      "source": [
        "money = int(input(\"請輸入購物金額:\"))\n",
        "if(money>=10000):\n",
        "  if(money>=100000):\n",
        "    print(\"八折\", money * 0.8, end = \"元\\n\")\n",
        "  elif(money>=50000):\n",
        "    print(\"八五折\", money * 0.85, end = \"元\\n\")\n",
        "  elif(money>=30000): \n",
        "    print(\"九折\", money * 0.9, end = \"元\\n\")\n",
        "  else:\n",
        "    print(\"九五折\", money * 0.95, end = \"元\\n\")\n",
        "else:\n",
        "  print(\"沒打折\", money, end= \"元\\n\")"
      ],
      "metadata": {
        "colab": {
          "base_uri": "https://localhost:8080/"
        },
        "id": "UQW-e3rflexP",
        "outputId": "18afee61-4a96-46ba-c5fc-292ad889f1f5"
      },
      "execution_count": 3,
      "outputs": [
        {
          "output_type": "stream",
          "name": "stdout",
          "text": [
            "請輸入購物金額:100000\n",
            "八折 80000.0元\n"
          ]
        }
      ]
    },
    {
      "cell_type": "code",
      "source": [
        "month = int(input(\"請輸入月份\"))\n",
        "if(month>=1 and month<=12):\n",
        "  if(month>=3 and month<=5):\n",
        "   print(month,\"月是春天!\")\n",
        "  elif(month>=6 and month<=8):\n",
        "   print(month,\"月是夏天!\")\n",
        "  elif(month>=9 and month<=11):\n",
        "   print(month,\"月是秋天!\")\n",
        "  elif(month>=12 and month<=2):\n",
        "   print(month,\"月是冬天!\")\n",
        "else:\n",
        "  print(\"月份不在範圍內!\")"
      ],
      "metadata": {
        "colab": {
          "base_uri": "https://localhost:8080/"
        },
        "id": "eRhSfyv3qgt-",
        "outputId": "e58251b0-4b4d-4b86-a2aa-3e44a1e07ff1"
      },
      "execution_count": 10,
      "outputs": [
        {
          "output_type": "stream",
          "name": "stdout",
          "text": [
            "請輸入月份5\n",
            "5 月是春天!\n"
          ]
        }
      ]
    },
    {
      "cell_type": "code",
      "source": [
        "profit = int(input(\"請輸入今年收入淨額:\"))\n",
        "if(profit >=300000):\n",
        "   if(profit>=2000000):\n",
        "    print(\"付稅金額:\",profit*0.3 ,end= \"元\\n\")\n",
        "   elif(profit>=1000000):\n",
        "    print(\"付稅金額:\",profit*0.21 ,end= \"元\\n\")\n",
        "   elif(profit>=600000):\n",
        "    print(\"付稅金額:\",profit*0.13 ,end= \"元\\n\")\n",
        "   elif(profit>=300000):\n",
        "    print(\"付稅金額:\",profit*0.06 ,end= \"元\\n\")\n",
        "else:\n",
        "  print(\"付稅金額:\", profit*0 ,end= \"元\\n\")\n",
        "profit = int(input(\"請輸入今年收入淨額:\"))\n",
        "if(profit >=300000):\n",
        "   if(profit>=2000000):\n",
        "    print(\"付稅金額:\",profit*0.3 ,end= \"元\\n\")\n",
        "   elif (profit>=1000000):\n",
        "    print(\"付稅金額:\",profit*0.21 ,end= \"元\\n\")\n",
        "   elif (profit>=600000):\n",
        "    print(\"付稅金額:\",profit*0.13 ,end= \"元\\n\")\n",
        "   elif (profit>=300000):\n",
        "    print(\"付稅金額:\",profit*0.06 ,end= \"元\\n\")\n",
        "else:\n",
        "  print(\"付稅金額:\", profit*0 ,end= \"元\\n\")"
      ],
      "metadata": {
        "colab": {
          "base_uri": "https://localhost:8080/"
        },
        "id": "WUeg4VUIpHsn",
        "outputId": "bf35f544-ec71-49a9-cade-54f9356489fa"
      },
      "execution_count": 11,
      "outputs": [
        {
          "output_type": "stream",
          "name": "stdout",
          "text": [
            "請輸入今年收入淨額:100000\n",
            "付稅金額: 0元\n",
            "請輸入今年收入淨額:2000000\n",
            "付稅金額: 600000.0元\n"
          ]
        }
      ]
    },
    {
      "cell_type": "code",
      "source": [
        "grade = int(input(\"請輸入成績\"))\n",
        "if (grade >=90):\n",
        "  print(\"A\")\n",
        "elif (90>grade>=80):\n",
        "  print(\"B\")\n",
        "elif (80>grade>=70):\n",
        "  print(\"C\")\n",
        "elif (70>grade>=60):\n",
        "  print(\"D\")\n",
        "else:\n",
        "  print(\"E\")\n",
        "grade = int(input(\"請輸入成績\"))\n",
        "if (grade >=90):\n",
        "  print(\"A\")\n",
        "elif (90>grade>=80):\n",
        "  print(\"B\")\n",
        "elif (80>grade>=70):\n",
        "  print(\"C\")\n",
        "elif (70>grade>=60):\n",
        "  print(\"D\")\n",
        "else:\n",
        "  print(\"E\")\n",
        "grade = int(input(\"請輸入成績\"))\n",
        "if (grade >=90):\n",
        "  print(\"A\")\n",
        "elif (90>grade>=80):\n",
        "  print(\"B\")\n",
        "elif (80>grade>=70):\n",
        "  print(\"C\")\n",
        "elif (70>grade>=60):\n",
        "  print(\"D\")\n",
        "else:\n",
        "  print(\"E\")"
      ],
      "metadata": {
        "colab": {
          "base_uri": "https://localhost:8080/"
        },
        "id": "M4JNqOzlgYHy",
        "outputId": "15a56f71-eb10-4aab-fa06-3e617e3877f4"
      },
      "execution_count": 12,
      "outputs": [
        {
          "output_type": "stream",
          "name": "stdout",
          "text": [
            "請輸入成績90\n",
            "A\n",
            "請輸入成績80\n",
            "B\n",
            "請輸入成績50\n",
            "E\n"
          ]
        }
      ]
    }
  ]
}