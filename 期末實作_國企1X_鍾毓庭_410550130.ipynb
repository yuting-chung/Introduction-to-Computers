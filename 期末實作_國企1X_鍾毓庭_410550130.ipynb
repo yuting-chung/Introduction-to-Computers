{
  "nbformat": 4,
  "nbformat_minor": 0,
  "metadata": {
    "colab": {
      "name": "期末實作_國企1X_鍾毓庭_410550130.ipynb",
      "provenance": [],
      "authorship_tag": "ABX9TyNWyTh4EQUDV2tPlbumOLZM",
      "include_colab_link": true
    },
    "kernelspec": {
      "name": "python3",
      "display_name": "Python 3"
    },
    "language_info": {
      "name": "python"
    }
  },
  "cells": [
    {
      "cell_type": "markdown",
      "metadata": {
        "id": "view-in-github",
        "colab_type": "text"
      },
      "source": [
        "<a href=\"https://colab.research.google.com/github/yuting-chung/Introduction-to-Computers/blob/main/%E6%9C%9F%E6%9C%AB%E5%AF%A6%E4%BD%9C_%E5%9C%8B%E4%BC%811X_%E9%8D%BE%E6%AF%93%E5%BA%AD_410550130.ipynb\" target=\"_parent\"><img src=\"https://colab.research.google.com/assets/colab-badge.svg\" alt=\"Open In Colab\"/></a>"
      ]
    },
    {
      "cell_type": "markdown",
      "source": [
        "第一題"
      ],
      "metadata": {
        "id": "BQv2dKTE4Is9"
      }
    },
    {
      "cell_type": "code",
      "execution_count": 32,
      "metadata": {
        "id": "F5I_l-QoAbHS",
        "colab": {
          "base_uri": "https://localhost:8080/"
        },
        "outputId": "5d2ed65a-efb7-4cdc-8f08-4c58fa25cb74"
      },
      "outputs": [
        {
          "output_type": "stream",
          "name": "stdout",
          "text": [
            "國企1A 410550130 鍾毓庭\n"
          ]
        }
      ],
      "source": [
        "list1 = [\"國企1A\",\"410550130\",\"鍾毓庭\"]\n",
        "print(list1[0],list1[1],list1[2])"
      ]
    },
    {
      "cell_type": "markdown",
      "source": [
        "第二題"
      ],
      "metadata": {
        "id": "ZJPNH4dZ4P5w"
      }
    },
    {
      "cell_type": "code",
      "source": [
        "list1 = [\"班級： 國企1A\",\"學號： 410550130\",\"姓名： 鍾毓庭\"]\n",
        "print(list1[0])\n",
        "print(list1[1])\n",
        "print(list1[2])"
      ],
      "metadata": {
        "colab": {
          "base_uri": "https://localhost:8080/"
        },
        "id": "T0LvYihX5iOM",
        "outputId": "2ecb65f6-b1cd-4876-caad-5da6170738f4"
      },
      "execution_count": 13,
      "outputs": [
        {
          "output_type": "stream",
          "name": "stdout",
          "text": [
            "班級： 國企1A\n",
            "學號： 410550130\n",
            "姓名： 鍾毓庭\n"
          ]
        }
      ]
    },
    {
      "cell_type": "markdown",
      "source": [
        "第三題"
      ],
      "metadata": {
        "id": "L4GJSv815rB5"
      }
    },
    {
      "cell_type": "code",
      "source": [
        "month = input('請輸入月份:')\n",
        "day = input('請輸入日期:')\n",
        "week=input('請輸入今天是星期幾:')\n",
        "print('今天是今天是:%c月,%c號,星期%c' %(month,day,week))\n"
      ],
      "metadata": {
        "colab": {
          "base_uri": "https://localhost:8080/"
        },
        "id": "6MA0PlRr1Bht",
        "outputId": "fba5b542-0bce-4de3-daf0-c6cbfa2db44b"
      },
      "execution_count": 10,
      "outputs": [
        {
          "output_type": "stream",
          "name": "stdout",
          "text": [
            "請輸入月份:1\n",
            "請輸入日期:1\n",
            "請輸入今天是星期幾:二\n",
            "今天是今天是:1月,1號,星期二\n"
          ]
        }
      ]
    },
    {
      "cell_type": "markdown",
      "source": [
        "第四題"
      ],
      "metadata": {
        "id": "h4exxXoy7sqC"
      }
    },
    {
      "cell_type": "code",
      "source": [
        "money = int(input(\"請輸入購物金:\"))\n",
        "if(money>=1000):\n",
        "  if(money>=10000)\n",
        "    print(\"八折\",)"
      ],
      "metadata": {
        "id": "sDSIh84O7q4G"
      },
      "execution_count": null,
      "outputs": []
    },
    {
      "cell_type": "code",
      "source": [
        ""
      ],
      "metadata": {
        "id": "el6qTvVz9Qqs"
      },
      "execution_count": null,
      "outputs": []
    },
    {
      "cell_type": "markdown",
      "source": [
        "第六題"
      ],
      "metadata": {
        "id": "AEfnsUOU9Ooc"
      }
    },
    {
      "cell_type": "code",
      "source": [
        "s=\"\"\n",
        "for i in (1,2,3,4,5,6,7,8,9):\n",
        "    for j in(1,2,3,4,5,6,7,8,9):\n",
        "        s+=str(i)+\"*\"+str(j)+\"=\"+str(i*j)+\"\\t\"\n",
        "    s+=\"\\n\"\n",
        "print(s)"
      ],
      "metadata": {
        "colab": {
          "base_uri": "https://localhost:8080/"
        },
        "id": "KIZQTuJj9NwG",
        "outputId": "7fdff700-f749-409a-8ce2-57bce14e0984"
      },
      "execution_count": 9,
      "outputs": [
        {
          "output_type": "stream",
          "name": "stdout",
          "text": [
            "1*1=1\t1*2=2\t1*3=3\t1*4=4\t1*5=5\t1*6=6\t1*7=7\t1*8=8\t1*9=9\t\n",
            "2*1=2\t2*2=4\t2*3=6\t2*4=8\t2*5=10\t2*6=12\t2*7=14\t2*8=16\t2*9=18\t\n",
            "3*1=3\t3*2=6\t3*3=9\t3*4=12\t3*5=15\t3*6=18\t3*7=21\t3*8=24\t3*9=27\t\n",
            "4*1=4\t4*2=8\t4*3=12\t4*4=16\t4*5=20\t4*6=24\t4*7=28\t4*8=32\t4*9=36\t\n",
            "5*1=5\t5*2=10\t5*3=15\t5*4=20\t5*5=25\t5*6=30\t5*7=35\t5*8=40\t5*9=45\t\n",
            "6*1=6\t6*2=12\t6*3=18\t6*4=24\t6*5=30\t6*6=36\t6*7=42\t6*8=48\t6*9=54\t\n",
            "7*1=7\t7*2=14\t7*3=21\t7*4=28\t7*5=35\t7*6=42\t7*7=49\t7*8=56\t7*9=63\t\n",
            "8*1=8\t8*2=16\t8*3=24\t8*4=32\t8*5=40\t8*6=48\t8*7=56\t8*8=64\t8*9=72\t\n",
            "9*1=9\t9*2=18\t9*3=27\t9*4=36\t9*5=45\t9*6=54\t9*7=63\t9*8=72\t9*9=81\t\n",
            "\n"
          ]
        }
      ]
    },
    {
      "cell_type": "markdown",
      "source": [
        "第七題"
      ],
      "metadata": {
        "id": "yWOgkY4qDgYJ"
      }
    },
    {
      "cell_type": "code",
      "source": [
        "sum = 0\n",
        "for i in range(1,101):\n",
        "   if i %9  ==0 or i%13==0:\n",
        "      sum += i\n",
        "print(\"從1到100，9或是13的倍數的數之總和=\" +str(sum))"
      ],
      "metadata": {
        "colab": {
          "base_uri": "https://localhost:8080/"
        },
        "id": "58Pc_RF_Dfj5",
        "outputId": "fd339db4-5e54-4627-9761-b59d4e9cb759"
      },
      "execution_count": 35,
      "outputs": [
        {
          "output_type": "stream",
          "name": "stdout",
          "text": [
            "從1到100，9或是13的倍數的數之總和=958\n"
          ]
        }
      ]
    }
  ]
}