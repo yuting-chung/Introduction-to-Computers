{
  "nbformat": 4,
  "nbformat_minor": 0,
  "metadata": {
    "colab": {
      "name": "期中實作_國企1A_鍾毓庭_410550130.ipynb",
      "provenance": [],
      "collapsed_sections": [],
      "authorship_tag": "ABX9TyMSLbG5HZsgL62bqlgE6wxB",
      "include_colab_link": true
    },
    "kernelspec": {
      "name": "python3",
      "display_name": "Python 3"
    },
    "language_info": {
      "name": "python"
    }
  },
  "cells": [
    {
      "cell_type": "markdown",
      "metadata": {
        "id": "view-in-github",
        "colab_type": "text"
      },
      "source": [
        "<a href=\"https://colab.research.google.com/github/yuting-chung/Introduction-to-Computers/blob/main/%E6%9C%9F%E4%B8%AD%E5%AF%A6%E4%BD%9C_%E5%9C%8B%E4%BC%811A_%E9%8D%BE%E6%AF%93%E5%BA%AD_410550130.ipynb\" target=\"_parent\"><img src=\"https://colab.research.google.com/assets/colab-badge.svg\" alt=\"Open In Colab\"/></a>"
      ]
    },
    {
      "cell_type": "code",
      "execution_count": 1,
      "metadata": {
        "colab": {
          "base_uri": "https://localhost:8080/"
        },
        "id": "DJZ1CjU5dMEn",
        "outputId": "561df535-5a07-4aa6-dc1a-de910e286c3e"
      },
      "outputs": [
        {
          "output_type": "stream",
          "name": "stdout",
          "text": [
            "班級：國企班級：國企1A\n",
            "姓名：鍾毓庭\n",
            "學號：學號：410550130\n"
          ]
        }
      ],
      "source": [
        "print('班級：國企班級：國企1A')\n",
        "print('姓名：鍾毓庭')\n",
        "print('學號：學號：410550130')"
      ]
    },
    {
      "cell_type": "code",
      "source": [
        "month=int(input('請輸入月份：'))\n",
        "day=int(input('請輸入日期：'))\n",
        "week=str(input('請輸入今天是星期幾：'))\n",
        "print('今天是：',month,'月',day,'號','星期',week,sep=',')"
      ],
      "metadata": {
        "id": "QP8lBbCDd4CV",
        "colab": {
          "base_uri": "https://localhost:8080/"
        },
        "outputId": "72e347e9-ca67-4967-a069-570ff01d8d1f"
      },
      "execution_count": 2,
      "outputs": [
        {
          "output_type": "stream",
          "name": "stdout",
          "text": [
            "請輸入月份：5\n",
            "請輸入日期：4\n",
            "請輸入今天是星期幾：3\n",
            "今天是：,5,月,4,號,星期,3\n"
          ]
        }
      ]
    },
    {
      "cell_type": "code",
      "source": [
        "上底=int(input('請輸入梯形上底長度：'))\n",
        "下底=int(input('請輸入梯形下底長度：'))\n",
        "高=int(input('請輸入梯形的高度：'))\n",
        "面積=(上底+下底)*高/2\n",
        "print('梯形上底長度為：%d公分,梯形下底長度為：%d公分,梯形高度為：%d公分,梯形面積為：%d.00平方公分'%(上底,下底,高,面積))"
      ],
      "metadata": {
        "colab": {
          "base_uri": "https://localhost:8080/"
        },
        "id": "v9mzCG0MhYeW",
        "outputId": "ebe87fff-3646-41f5-9324-d0d78e7bec41"
      },
      "execution_count": 12,
      "outputs": [
        {
          "output_type": "stream",
          "name": "stdout",
          "text": [
            "請輸入梯形上底長度：4\n",
            "請輸入梯形下底長度：5\n",
            "請輸入梯形的高度：4\n",
            "梯形上底長度為：4公分,梯形下底長度為：5公分,梯形高度為：4公分,梯形面積為：18.00平方公分\n"
          ]
        }
      ]
    },
    {
      "cell_type": "code",
      "source": [
        "身高=int(input('請輸入您的身高'))\n",
        "體重=int(input('請輸入您的體重'))\n",
        "BNT=(體重/(身高/100)**2)\n",
        "print('身高為%d公分,體重為%d公斤,BMI為%0.3f'%(身高,體重,BMI))"
      ],
      "metadata": {
        "colab": {
          "base_uri": "https://localhost:8080/",
          "height": 232
        },
        "id": "5uQwGgk5lPoS",
        "outputId": "bacafbd0-be65-461a-81d6-5d71b5913aa6"
      },
      "execution_count": 24,
      "outputs": [
        {
          "name": "stdout",
          "output_type": "stream",
          "text": [
            "請輸入您的身高180\n",
            "請輸入您的體重60\n"
          ]
        },
        {
          "output_type": "error",
          "ename": "NameError",
          "evalue": "ignored",
          "traceback": [
            "\u001b[0;31m---------------------------------------------------------------------------\u001b[0m",
            "\u001b[0;31mNameError\u001b[0m                                 Traceback (most recent call last)",
            "\u001b[0;32m<ipython-input-24-b72fc6fcf80a>\u001b[0m in \u001b[0;36m<module>\u001b[0;34m()\u001b[0m\n\u001b[1;32m      2\u001b[0m \u001b[0m體重\u001b[0m\u001b[0;34m=\u001b[0m\u001b[0mint\u001b[0m\u001b[0;34m(\u001b[0m\u001b[0minput\u001b[0m\u001b[0;34m(\u001b[0m\u001b[0;34m'請輸入您的體重'\u001b[0m\u001b[0;34m)\u001b[0m\u001b[0;34m)\u001b[0m\u001b[0;34m\u001b[0m\u001b[0;34m\u001b[0m\u001b[0m\n\u001b[1;32m      3\u001b[0m \u001b[0mBNT\u001b[0m\u001b[0;34m=\u001b[0m\u001b[0;34m(\u001b[0m\u001b[0m體重\u001b[0m\u001b[0;34m/\u001b[0m\u001b[0;34m(\u001b[0m\u001b[0m身高\u001b[0m\u001b[0;34m/\u001b[0m\u001b[0;36m100\u001b[0m\u001b[0;34m)\u001b[0m\u001b[0;34m**\u001b[0m\u001b[0;36m2\u001b[0m\u001b[0;34m)\u001b[0m\u001b[0;34m\u001b[0m\u001b[0;34m\u001b[0m\u001b[0m\n\u001b[0;32m----> 4\u001b[0;31m \u001b[0mprint\u001b[0m\u001b[0;34m(\u001b[0m\u001b[0;34m'身高為%d公分,體重為%d公斤,BMI為%0.3f'\u001b[0m\u001b[0;34m%\u001b[0m\u001b[0;34m(\u001b[0m\u001b[0m身高\u001b[0m\u001b[0;34m,\u001b[0m\u001b[0m體重\u001b[0m\u001b[0;34m,\u001b[0m\u001b[0mBMI\u001b[0m\u001b[0;34m)\u001b[0m\u001b[0;34m)\u001b[0m\u001b[0;34m\u001b[0m\u001b[0;34m\u001b[0m\u001b[0m\n\u001b[0m",
            "\u001b[0;31mNameError\u001b[0m: name 'BMI' is not defined"
          ]
        }
      ]
    },
    {
      "cell_type": "code",
      "source": [
        "a=int(input('請輸入正整數：'))\n",
        "b=a%2\n",
        "if(b==0):\n",
        "  print(str(a)+'為偶數！')\n",
        "else:\n",
        "  print(str(a)+'為奇數！')"
      ],
      "metadata": {
        "colab": {
          "base_uri": "https://localhost:8080/"
        },
        "id": "l5i0DsTun03Q",
        "outputId": "bd7d5565-ed51-4c7a-9591-ae4ca086f7ed"
      },
      "execution_count": 22,
      "outputs": [
        {
          "output_type": "stream",
          "name": "stdout",
          "text": [
            "請輸入正整數：50\n",
            "50為偶數！\n"
          ]
        }
      ]
    },
    {
      "cell_type": "code",
      "source": [
        "temp=float(input('請輸入你的體溫'))\n",
        "if(temp>37.5 or temp<36):\n",
        "  print('體溫異常,請重新測量')\n",
        "else:\n",
        "  print('體溫正常,請進校園')"
      ],
      "metadata": {
        "colab": {
          "base_uri": "https://localhost:8080/"
        },
        "id": "PQ4t7QZPppj0",
        "outputId": "163e7f59-356c-42fa-bce1-a41ec09c7b5a"
      },
      "execution_count": 23,
      "outputs": [
        {
          "output_type": "stream",
          "name": "stdout",
          "text": [
            "請輸入你的體溫37.4\n",
            "體溫正常,請進校園\n"
          ]
        }
      ]
    }
  ]
}